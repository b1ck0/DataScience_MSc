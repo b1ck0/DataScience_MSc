{
 "cells": [
  {
   "cell_type": "code",
   "execution_count": 107,
   "metadata": {},
   "outputs": [],
   "source": [
    "from scipy.special import comb"
   ]
  },
  {
   "cell_type": "markdown",
   "metadata": {},
   "source": [
    "Probability of matching 6 numbers:\n",
    "\n",
    "$$ P = \\frac{6}{49} \\times \\frac{5}{48} \\times \\frac{4}{47} \\times \\frac{3}{46} \\times \\frac{2}{45} \\times \\frac{1}{44} = \\frac{\\binom{6}{6} \\times \\binom{43}{0}}{\\binom{49}{6}}$$"
   ]
  },
  {
   "cell_type": "code",
   "execution_count": 108,
   "metadata": {
    "scrolled": true
   },
   "outputs": [
    {
     "data": {
      "text/plain": [
       "7.151123842018516e-08"
      ]
     },
     "execution_count": 108,
     "metadata": {},
     "output_type": "execute_result"
    }
   ],
   "source": [
    "comb(6,6)*comb(43,0)/comb(49,6)"
   ]
  },
  {
   "cell_type": "markdown",
   "metadata": {},
   "source": [
    "Probability of matching 0 numbers:\n",
    "\n",
    "$$ P = \\frac{43}{49} \\times \\frac{42}{48} \\times \\frac{41}{47} \\times \\frac{40}{46} \\times \\frac{39}{45} \\times \\frac{38}{44} = \\frac{\\binom{6}{0} \\times \\binom{43}{6}}{\\binom{49}{6}}$$"
   ]
  },
  {
   "cell_type": "code",
   "execution_count": 109,
   "metadata": {},
   "outputs": [
    {
     "data": {
      "text/plain": [
       "0.4359649755116915"
      ]
     },
     "execution_count": 109,
     "metadata": {},
     "output_type": "execute_result"
    }
   ],
   "source": [
    "comb(6,0)*comb(43,6)/comb(49,6)"
   ]
  },
  {
   "cell_type": "markdown",
   "metadata": {},
   "source": [
    "Probability of matching 1 number:\n",
    "\n",
    "$$ P = \\frac{\\binom{6}{1} \\times \\binom{43}{5}}{\\binom{49}{6}}$$"
   ]
  },
  {
   "cell_type": "code",
   "execution_count": 110,
   "metadata": {},
   "outputs": [
    {
     "data": {
      "text/plain": [
       "0.4130194504847604"
      ]
     },
     "execution_count": 110,
     "metadata": {},
     "output_type": "execute_result"
    }
   ],
   "source": [
    "comb(6,1)*comb(43,5)/comb(49,6)"
   ]
  },
  {
   "cell_type": "code",
   "execution_count": 111,
   "metadata": {},
   "outputs": [],
   "source": [
    "def prob(matches, numbers=49, guesses=6):\n",
    "    return comb(guesses,matches)*comb(numbers-guesses,guesses-matches)/comb(numbers,guesses)"
   ]
  },
  {
   "cell_type": "code",
   "execution_count": 112,
   "metadata": {},
   "outputs": [],
   "source": [
    "pmf = {i:prob(i) for i in range(0,7)}"
   ]
  },
  {
   "cell_type": "code",
   "execution_count": 113,
   "metadata": {},
   "outputs": [
    {
     "data": {
      "text/plain": [
       "{0: 0.4359649755116915,\n",
       " 1: 0.4130194504847604,\n",
       " 2: 0.13237802900152576,\n",
       " 3: 0.017650403866870102,\n",
       " 4: 0.000968619724401408,\n",
       " 5: 1.8449899512407772e-05,\n",
       " 6: 7.151123842018516e-08}"
      ]
     },
     "execution_count": 113,
     "metadata": {},
     "output_type": "execute_result"
    }
   ],
   "source": [
    "pmf"
   ]
  },
  {
   "cell_type": "code",
   "execution_count": null,
   "metadata": {},
   "outputs": [],
   "source": []
  }
 ],
 "metadata": {
  "kernelspec": {
   "display_name": "Python 3",
   "language": "python",
   "name": "python3"
  },
  "language_info": {
   "codemirror_mode": {
    "name": "ipython",
    "version": 3
   },
   "file_extension": ".py",
   "mimetype": "text/x-python",
   "name": "python",
   "nbconvert_exporter": "python",
   "pygments_lexer": "ipython3",
   "version": "3.7.0"
  }
 },
 "nbformat": 4,
 "nbformat_minor": 2
}
