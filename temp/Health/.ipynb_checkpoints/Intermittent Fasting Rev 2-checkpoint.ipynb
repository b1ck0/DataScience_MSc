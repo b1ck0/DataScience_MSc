{
 "cells": [
  {
   "cell_type": "code",
   "execution_count": 1,
   "metadata": {
    "collapsed": true
   },
   "outputs": [],
   "source": [
    "import numpy as np\n",
    "import pandas as pd\n",
    "import matplotlib.pyplot as plt\n",
    "import seaborn as sns\n",
    "from sklearn import metrics\n",
    "%matplotlib inline"
   ]
  },
  {
   "cell_type": "code",
   "execution_count": 2,
   "metadata": {
    "collapsed": true
   },
   "outputs": [],
   "source": [
    "exercise = pd.read_csv('myfitnesspal/Exercise-Summary.csv', index_col = 0)\n",
    "measurement = pd.read_csv('myfitnesspal/Measurement-Summary.csv', index_col = 0)\n",
    "nutrition = pd.read_csv('myfitnesspal/Nutrition-Summary.csv', index_col = 0)"
   ]
  },
  {
   "cell_type": "code",
   "execution_count": 3,
   "metadata": {},
   "outputs": [
    {
     "name": "stdout",
     "output_type": "stream",
     "text": [
      "Exercise Period :   2012-11-10 00:00:00  -  2018-02-06 00:00:00\n",
      "Measurement Period :   2012-11-10 00:00:00  -  2018-02-06 00:00:00\n",
      "Nutrition Period :   2012-11-10 00:00:00  -  2018-02-06 00:00:00\n",
      "Overall Period:  2012-11-10 00:00:00  -  2018-02-06 00:00:00\n"
     ]
    }
   ],
   "source": [
    "exercise.index = pd.to_datetime(exercise.index)\n",
    "measurement.index = pd.to_datetime(measurement.index)\n",
    "nutrition.index = pd.to_datetime(nutrition.index)\n",
    "\n",
    "print(\"Exercise Period :  \", exercise.index[0] , ' - ', exercise.index[-1])\n",
    "print(\"Measurement Period :  \", measurement.index[0] , ' - ', measurement.index[-1])\n",
    "print(\"Nutrition Period :  \", nutrition.index[0] , ' - ', nutrition.index[-1])\n",
    "\n",
    "print(\"Overall Period: \", min(exercise.index[0],measurement.index[0],nutrition.index[0]), ' - ',\n",
    "                          max(exercise.index[-1],measurement.index[-1],nutrition.index[-1]))\n",
    "\n",
    "startDate = min(exercise.index[0],measurement.index[0],nutrition.index[0])\n",
    "endDate = max(exercise.index[-1],measurement.index[-1],nutrition.index[-1])"
   ]
  },
  {
   "cell_type": "code",
   "execution_count": 9,
   "metadata": {},
   "outputs": [
    {
     "data": {
      "text/html": [
       "<div>\n",
       "<style>\n",
       "    .dataframe thead tr:only-child th {\n",
       "        text-align: right;\n",
       "    }\n",
       "\n",
       "    .dataframe thead th {\n",
       "        text-align: left;\n",
       "    }\n",
       "\n",
       "    .dataframe tbody tr th {\n",
       "        vertical-align: top;\n",
       "    }\n",
       "</style>\n",
       "<table border=\"1\" class=\"dataframe\">\n",
       "  <thead>\n",
       "    <tr style=\"text-align: right;\">\n",
       "      <th></th>\n",
       "      <th>Exercise</th>\n",
       "      <th>Type</th>\n",
       "      <th>Exercise Calories</th>\n",
       "      <th>Exercise Minutes</th>\n",
       "      <th>Sets</th>\n",
       "      <th>Reps Per Set</th>\n",
       "      <th>Kilograms</th>\n",
       "      <th>Steps</th>\n",
       "    </tr>\n",
       "    <tr>\n",
       "      <th>Date</th>\n",
       "      <th></th>\n",
       "      <th></th>\n",
       "      <th></th>\n",
       "      <th></th>\n",
       "      <th></th>\n",
       "      <th></th>\n",
       "      <th></th>\n",
       "      <th></th>\n",
       "    </tr>\n",
       "  </thead>\n",
       "  <tbody>\n",
       "    <tr>\n",
       "      <th>2012-11-10</th>\n",
       "      <td>Dips</td>\n",
       "      <td>Strength</td>\n",
       "      <td>0.0</td>\n",
       "      <td>0.0</td>\n",
       "      <td>7.0</td>\n",
       "      <td>10.0</td>\n",
       "      <td>36.3</td>\n",
       "      <td>0.0</td>\n",
       "    </tr>\n",
       "    <tr>\n",
       "      <th>2012-11-10</th>\n",
       "      <td>Rowing, stationary, very vigorous effort</td>\n",
       "      <td>Cardio</td>\n",
       "      <td>227.0</td>\n",
       "      <td>22.0</td>\n",
       "      <td>0.0</td>\n",
       "      <td>0.0</td>\n",
       "      <td>0.0</td>\n",
       "      <td>0.0</td>\n",
       "    </tr>\n",
       "    <tr>\n",
       "      <th>2012-11-10</th>\n",
       "      <td>Step-ups, vigorous</td>\n",
       "      <td>Cardio</td>\n",
       "      <td>251.0</td>\n",
       "      <td>20.0</td>\n",
       "      <td>0.0</td>\n",
       "      <td>0.0</td>\n",
       "      <td>0.0</td>\n",
       "      <td>0.0</td>\n",
       "    </tr>\n",
       "    <tr>\n",
       "      <th>2012-11-11</th>\n",
       "      <td>Chin-Ups</td>\n",
       "      <td>Strength</td>\n",
       "      <td>0.0</td>\n",
       "      <td>0.0</td>\n",
       "      <td>3.0</td>\n",
       "      <td>8.0</td>\n",
       "      <td>36.3</td>\n",
       "      <td>0.0</td>\n",
       "    </tr>\n",
       "    <tr>\n",
       "      <th>2012-11-11</th>\n",
       "      <td>Dips</td>\n",
       "      <td>Strength</td>\n",
       "      <td>0.0</td>\n",
       "      <td>0.0</td>\n",
       "      <td>5.0</td>\n",
       "      <td>10.0</td>\n",
       "      <td>36.3</td>\n",
       "      <td>0.0</td>\n",
       "    </tr>\n",
       "  </tbody>\n",
       "</table>\n",
       "</div>"
      ],
      "text/plain": [
       "                                            Exercise      Type  \\\n",
       "Date                                                             \n",
       "2012-11-10                                      Dips  Strength   \n",
       "2012-11-10  Rowing, stationary, very vigorous effort    Cardio   \n",
       "2012-11-10                        Step-ups, vigorous    Cardio   \n",
       "2012-11-11                                  Chin-Ups  Strength   \n",
       "2012-11-11                                      Dips  Strength   \n",
       "\n",
       "            Exercise Calories  Exercise Minutes  Sets  Reps Per Set  \\\n",
       "Date                                                                  \n",
       "2012-11-10                0.0               0.0   7.0          10.0   \n",
       "2012-11-10              227.0              22.0   0.0           0.0   \n",
       "2012-11-10              251.0              20.0   0.0           0.0   \n",
       "2012-11-11                0.0               0.0   3.0           8.0   \n",
       "2012-11-11                0.0               0.0   5.0          10.0   \n",
       "\n",
       "            Kilograms  Steps  \n",
       "Date                          \n",
       "2012-11-10       36.3    0.0  \n",
       "2012-11-10        0.0    0.0  \n",
       "2012-11-10        0.0    0.0  \n",
       "2012-11-11       36.3    0.0  \n",
       "2012-11-11       36.3    0.0  "
      ]
     },
     "execution_count": 9,
     "metadata": {},
     "output_type": "execute_result"
    }
   ],
   "source": [
    "exercise.head()"
   ]
  },
  {
   "cell_type": "code",
   "execution_count": 5,
   "metadata": {},
   "outputs": [],
   "source": [
    "exercise.fillna(value=0, inplace=True)\n",
    "\n",
    "def boolStrength(x):\n",
    "    if x == 0.0:\n",
    "        return '1' # yes\n",
    "    else:\n",
    "        return '0' # no\n",
    "    \n",
    "exercise_agg = pd.DataFrame(index=pd.date_range(start=startDate, end=endDate ,freq='D'))"
   ]
  },
  {
   "cell_type": "code",
   "execution_count": 12,
   "metadata": {},
   "outputs": [],
   "source": [
    "for column in exercise.columns:\n",
    "    if column in ['Exercise Calories', 'Exercise Minutes', 'Steps']:\n",
    "        exercise_agg[column] = exercise.groupby('Date')[column].sum()"
   ]
  },
  {
   "cell_type": "code",
   "execution_count": 13,
   "metadata": {},
   "outputs": [],
   "source": [
    "exercise_agg.fillna(value=0, inplace=True)"
   ]
  },
  {
   "cell_type": "code",
   "execution_count": 14,
   "metadata": {},
   "outputs": [
    {
     "data": {
      "text/html": [
       "<div>\n",
       "<style>\n",
       "    .dataframe thead tr:only-child th {\n",
       "        text-align: right;\n",
       "    }\n",
       "\n",
       "    .dataframe thead th {\n",
       "        text-align: left;\n",
       "    }\n",
       "\n",
       "    .dataframe tbody tr th {\n",
       "        vertical-align: top;\n",
       "    }\n",
       "</style>\n",
       "<table border=\"1\" class=\"dataframe\">\n",
       "  <thead>\n",
       "    <tr style=\"text-align: right;\">\n",
       "      <th></th>\n",
       "      <th>Exercise Calories</th>\n",
       "      <th>Exercise Minutes</th>\n",
       "      <th>Steps</th>\n",
       "    </tr>\n",
       "  </thead>\n",
       "  <tbody>\n",
       "    <tr>\n",
       "      <th>2012-11-10</th>\n",
       "      <td>478.0</td>\n",
       "      <td>42.0</td>\n",
       "      <td>0.0</td>\n",
       "    </tr>\n",
       "    <tr>\n",
       "      <th>2012-11-11</th>\n",
       "      <td>577.0</td>\n",
       "      <td>55.0</td>\n",
       "      <td>0.0</td>\n",
       "    </tr>\n",
       "    <tr>\n",
       "      <th>2012-11-12</th>\n",
       "      <td>482.0</td>\n",
       "      <td>55.0</td>\n",
       "      <td>0.0</td>\n",
       "    </tr>\n",
       "    <tr>\n",
       "      <th>2012-11-13</th>\n",
       "      <td>441.0</td>\n",
       "      <td>40.0</td>\n",
       "      <td>0.0</td>\n",
       "    </tr>\n",
       "    <tr>\n",
       "      <th>2012-11-14</th>\n",
       "      <td>0.0</td>\n",
       "      <td>0.0</td>\n",
       "      <td>0.0</td>\n",
       "    </tr>\n",
       "  </tbody>\n",
       "</table>\n",
       "</div>"
      ],
      "text/plain": [
       "            Exercise Calories  Exercise Minutes  Steps\n",
       "2012-11-10              478.0              42.0    0.0\n",
       "2012-11-11              577.0              55.0    0.0\n",
       "2012-11-12              482.0              55.0    0.0\n",
       "2012-11-13              441.0              40.0    0.0\n",
       "2012-11-14                0.0               0.0    0.0"
      ]
     },
     "execution_count": 14,
     "metadata": {},
     "output_type": "execute_result"
    }
   ],
   "source": [
    "exercise_agg.head()"
   ]
  },
  {
   "cell_type": "code",
   "execution_count": null,
   "metadata": {
    "collapsed": true
   },
   "outputs": [],
   "source": []
  },
  {
   "cell_type": "code",
   "execution_count": null,
   "metadata": {
    "collapsed": true
   },
   "outputs": [],
   "source": []
  },
  {
   "cell_type": "code",
   "execution_count": null,
   "metadata": {
    "collapsed": true
   },
   "outputs": [],
   "source": []
  }
 ],
 "metadata": {
  "kernelspec": {
   "display_name": "Python 3",
   "language": "python",
   "name": "python3"
  },
  "language_info": {
   "codemirror_mode": {
    "name": "ipython",
    "version": 3
   },
   "file_extension": ".py",
   "mimetype": "text/x-python",
   "name": "python",
   "nbconvert_exporter": "python",
   "pygments_lexer": "ipython3",
   "version": "3.6.3"
  }
 },
 "nbformat": 4,
 "nbformat_minor": 2
}
