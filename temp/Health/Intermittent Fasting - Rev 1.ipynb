{
 "cells": [
  {
   "cell_type": "markdown",
   "metadata": {},
   "source": [
    "# Intermittent Fasting - A Statistical Self-Study\n",
    "\n",
    "This study will help me learn how food and excercise are affecting my weight and overall well-being. I am using historical data (unfortenately not continuous) exported from myfitnesspal acount. It covers a period of 6 years of unsuccessfull weight management strategies. \n",
    "\n",
    "Since 07.12.2017 I have decided to try a new strategy called Intermittent Fasting. I came accross this strategy in a youtube video from Dr. Jason Fung who advocates the health benefits from fasting in general. And so after conducting some research on the topic I decided to follow the so called \"Warrior Diet\" proposed from Ori Hofmekler. However I took the idea further and  restricted the eating plan even more by combining it with Low Carbohydrate Diet.\n",
    "\n",
    "So in the end I eat only once a day, usually at dinner, and when I do that I try to minimize the amount of strachy carbohydrates in my meals. In simple words - no rice, bread or potatoes.\n",
    "\n",
    "## Table of Contents\n",
    "1. Data description\n",
    "2. Loading and manipulating the data\n",
    "3. Exploratory data analysis\n",
    "4. Calories Equation Model\n",
    "5. Linear Regression Model\n",
    "6. Regression Tree Model\n",
    "7. Neural Network Model\n",
    "8. Comparison and Evaluation of the different Models\n",
    "9. Meal optimization\n",
    "9. Insights from the data\n",
    "\n",
    "### 1. Data Description\n",
    "\n",
    "The data which I use is collected in my Myfitnesspal account. When I export it in a csv file format it comes in three separate files - Exercise-Summary.csv, Measurement-Summary.csv and Nutrition-Summary.csv.\n",
    "\n",
    "**Exercise-Summary.csv**\n",
    "* Date - [YYYY-MM-DD] - observation date\n",
    "* Excercise - [String] - description of the exercise\n",
    "* Type - [cardio/strength] - type of the exercise\n",
    "* Calories - [num] - calories burned during the exercise\n",
    "* Exercise Minutes - [num] - minutes spend on the exercise\n",
    "* Sets - [num] - number of sets\n",
    "* Reps per Set - [num] - number of repetitions per set\n",
    "* Kilograms - [num] - kilograms for each repetition\n",
    "* Steps - [num] - steps count from the exercise (via Google Fit / Mi Fit)\n",
    "\n",
    "**Measurement-Summary.csv**\n",
    "* Date - [YYYY-MM-DD] - observation date\n",
    "* % Body Fat - [num] - percentage of body fat\n",
    "* Biceps - [num] - biceps circumference in cm\n",
    "* Calves - [num] - calves circumference in cm\n",
    "* Hips - [num] - hips circumference in cm\n",
    "* Neck - [num] - neck circumference in cm\n",
    "* Tights - [num] - tights circumference in cm\n",
    "* Waist - [num] - waist circumference in cm\n",
    "* Weight - [num] - weight in kg\n",
    "\n",
    "**Nutrition-Summary.csv**\n",
    "* Date - [YYYY-MM-DD] - observation date\n",
    "* Meal - [String] - meal name [breakfast/lunch/dinner/snack]\n",
    "* Calories - [num] - number of calories for the meal\n",
    "* Fat g - [num] - grams of fat for the meal\n",
    "* Saturated Fat - [num] - grams of saturated fat for the meal\n",
    "* Polysaturated Fat - [num] - grams of polysaturated fat for the meal\n",
    "* Monosaturated Fat - [num] - grams of monosaturated fat for the meal\n",
    "* Trans Fat - [num] - grams of trans fat for the meal\n",
    "* Cholesterol - [num] - mg of cholesterol for the meal\n",
    "* Sodium (mg) - [num] - mg of sodium for the meal\n",
    "* Potassium - [num] - mg of potassium for the meal\n",
    "* Carbohydrates (g) - [num] - grams of carbohydrates for the meal \n",
    "* Fiber - [num] - grams of fiber for the meal\n",
    "* Sugar - [num] - grams of sugar for the meal\n",
    "* Protein (g) - [num] - grams of protein for the meal\n",
    "* Vitamin A - [num] - % of the recommended daily intake\n",
    "* Vitamin C - [num] - % of the recommended daily intake\n",
    "* Calcium - [num] - % of the recommended daily intake\n",
    "* Iron - [num] - % of the recommended daily intake\n",
    "\n",
    "### 2. Loading and Manipulating the Data"
   ]
  },
  {
   "cell_type": "code",
   "execution_count": 1,
   "metadata": {
    "collapsed": true
   },
   "outputs": [],
   "source": [
    "import numpy as np\n",
    "import pandas as pd\n",
    "import matplotlib.pyplot as plt\n",
    "import seaborn as sns\n",
    "from sklearn import metrics\n",
    "%matplotlib inline"
   ]
  },
  {
   "cell_type": "markdown",
   "metadata": {},
   "source": [
    "First I will read the data I have into a pandas dataframes:"
   ]
  },
  {
   "cell_type": "code",
   "execution_count": 2,
   "metadata": {},
   "outputs": [],
   "source": [
    "exercise = pd.read_csv('myfitnesspal/Exercise-Summary.csv', index_col = 0)\n",
    "measurement = pd.read_csv('myfitnesspal/Measurement-Summary.csv', index_col = 0)\n",
    "nutrition = pd.read_csv('myfitnesspal/Nutrition-Summary.csv', index_col = 0)"
   ]
  },
  {
   "cell_type": "markdown",
   "metadata": {},
   "source": [
    "Before I start manipulating my data I want to check the exact time period which I have data for in each csv file. I am doing this as I am not sure if all the data is for the same time intervals"
   ]
  },
  {
   "cell_type": "code",
   "execution_count": 3,
   "metadata": {},
   "outputs": [
    {
     "name": "stdout",
     "output_type": "stream",
     "text": [
      "Exercise Period :   2012-11-10 00:00:00  -  2018-02-15 00:00:00\n",
      "Measurement Period :   2012-11-10 00:00:00  -  2018-02-15 00:00:00\n",
      "Nutrition Period :   2012-11-10 00:00:00  -  2018-02-15 00:00:00\n",
      "Overall Period:  2012-11-10 00:00:00  -  2018-02-15 00:00:00\n"
     ]
    }
   ],
   "source": [
    "# converting the index of the dataframes into a date-time format\n",
    "exercise.index = pd.to_datetime(exercise.index)\n",
    "measurement.index = pd.to_datetime(measurement.index)\n",
    "nutrition.index = pd.to_datetime(nutrition.index)\n",
    "\n",
    "# printing the time intervals\n",
    "print(\"Exercise Period :  \", exercise.index[0] , ' - ', exercise.index[-1])\n",
    "print(\"Measurement Period :  \", measurement.index[0] , ' - ', measurement.index[-1])\n",
    "print(\"Nutrition Period :  \", nutrition.index[0] , ' - ', nutrition.index[-1])\n",
    "\n",
    "print(\"Overall Period: \", min(exercise.index[0],measurement.index[0],nutrition.index[0]), ' - ',\n",
    "                          max(exercise.index[-1],measurement.index[-1],nutrition.index[-1]))\n",
    "\n",
    "# assigning overall common start and end dates which I will use to build my analysis dataframe\n",
    "startDate = min(exercise.index[0],measurement.index[0],nutrition.index[0])\n",
    "endDate = max(exercise.index[-1],measurement.index[-1],nutrition.index[-1])"
   ]
  },
  {
   "cell_type": "markdown",
   "metadata": {},
   "source": [
    "Now I will check the structure for each dataframe:"
   ]
  },
  {
   "cell_type": "code",
   "execution_count": 4,
   "metadata": {},
   "outputs": [
    {
     "data": {
      "text/html": [
       "<div>\n",
       "<style>\n",
       "    .dataframe thead tr:only-child th {\n",
       "        text-align: right;\n",
       "    }\n",
       "\n",
       "    .dataframe thead th {\n",
       "        text-align: left;\n",
       "    }\n",
       "\n",
       "    .dataframe tbody tr th {\n",
       "        vertical-align: top;\n",
       "    }\n",
       "</style>\n",
       "<table border=\"1\" class=\"dataframe\">\n",
       "  <thead>\n",
       "    <tr style=\"text-align: right;\">\n",
       "      <th></th>\n",
       "      <th>Exercise</th>\n",
       "      <th>Type</th>\n",
       "      <th>Exercise Calories</th>\n",
       "      <th>Exercise Minutes</th>\n",
       "      <th>Sets</th>\n",
       "      <th>Reps Per Set</th>\n",
       "      <th>Kilograms</th>\n",
       "      <th>Steps</th>\n",
       "    </tr>\n",
       "    <tr>\n",
       "      <th>Date</th>\n",
       "      <th></th>\n",
       "      <th></th>\n",
       "      <th></th>\n",
       "      <th></th>\n",
       "      <th></th>\n",
       "      <th></th>\n",
       "      <th></th>\n",
       "      <th></th>\n",
       "    </tr>\n",
       "  </thead>\n",
       "  <tbody>\n",
       "    <tr>\n",
       "      <th>2012-11-10</th>\n",
       "      <td>Dips</td>\n",
       "      <td>Strength</td>\n",
       "      <td>NaN</td>\n",
       "      <td>NaN</td>\n",
       "      <td>7.0</td>\n",
       "      <td>10.0</td>\n",
       "      <td>36.3</td>\n",
       "      <td>NaN</td>\n",
       "    </tr>\n",
       "    <tr>\n",
       "      <th>2012-11-10</th>\n",
       "      <td>Rowing, stationary, very vigorous effort</td>\n",
       "      <td>Cardio</td>\n",
       "      <td>227.0</td>\n",
       "      <td>22.0</td>\n",
       "      <td>NaN</td>\n",
       "      <td>NaN</td>\n",
       "      <td>NaN</td>\n",
       "      <td>NaN</td>\n",
       "    </tr>\n",
       "    <tr>\n",
       "      <th>2012-11-10</th>\n",
       "      <td>Step-ups, vigorous</td>\n",
       "      <td>Cardio</td>\n",
       "      <td>251.0</td>\n",
       "      <td>20.0</td>\n",
       "      <td>NaN</td>\n",
       "      <td>NaN</td>\n",
       "      <td>NaN</td>\n",
       "      <td>NaN</td>\n",
       "    </tr>\n",
       "    <tr>\n",
       "      <th>2012-11-11</th>\n",
       "      <td>Chin-Ups</td>\n",
       "      <td>Strength</td>\n",
       "      <td>NaN</td>\n",
       "      <td>NaN</td>\n",
       "      <td>3.0</td>\n",
       "      <td>8.0</td>\n",
       "      <td>36.3</td>\n",
       "      <td>NaN</td>\n",
       "    </tr>\n",
       "    <tr>\n",
       "      <th>2012-11-11</th>\n",
       "      <td>Dips</td>\n",
       "      <td>Strength</td>\n",
       "      <td>NaN</td>\n",
       "      <td>NaN</td>\n",
       "      <td>5.0</td>\n",
       "      <td>10.0</td>\n",
       "      <td>36.3</td>\n",
       "      <td>NaN</td>\n",
       "    </tr>\n",
       "  </tbody>\n",
       "</table>\n",
       "</div>"
      ],
      "text/plain": [
       "                                            Exercise      Type  \\\n",
       "Date                                                             \n",
       "2012-11-10                                      Dips  Strength   \n",
       "2012-11-10  Rowing, stationary, very vigorous effort    Cardio   \n",
       "2012-11-10                        Step-ups, vigorous    Cardio   \n",
       "2012-11-11                                  Chin-Ups  Strength   \n",
       "2012-11-11                                      Dips  Strength   \n",
       "\n",
       "            Exercise Calories  Exercise Minutes  Sets  Reps Per Set  \\\n",
       "Date                                                                  \n",
       "2012-11-10                NaN               NaN   7.0          10.0   \n",
       "2012-11-10              227.0              22.0   NaN           NaN   \n",
       "2012-11-10              251.0              20.0   NaN           NaN   \n",
       "2012-11-11                NaN               NaN   3.0           8.0   \n",
       "2012-11-11                NaN               NaN   5.0          10.0   \n",
       "\n",
       "            Kilograms  Steps  \n",
       "Date                          \n",
       "2012-11-10       36.3    NaN  \n",
       "2012-11-10        NaN    NaN  \n",
       "2012-11-10        NaN    NaN  \n",
       "2012-11-11       36.3    NaN  \n",
       "2012-11-11       36.3    NaN  "
      ]
     },
     "execution_count": 4,
     "metadata": {},
     "output_type": "execute_result"
    }
   ],
   "source": [
    "exercise.head()"
   ]
  },
  {
   "cell_type": "code",
   "execution_count": 5,
   "metadata": {},
   "outputs": [
    {
     "data": {
      "text/html": [
       "<div>\n",
       "<style>\n",
       "    .dataframe thead tr:only-child th {\n",
       "        text-align: right;\n",
       "    }\n",
       "\n",
       "    .dataframe thead th {\n",
       "        text-align: left;\n",
       "    }\n",
       "\n",
       "    .dataframe tbody tr th {\n",
       "        vertical-align: top;\n",
       "    }\n",
       "</style>\n",
       "<table border=\"1\" class=\"dataframe\">\n",
       "  <thead>\n",
       "    <tr style=\"text-align: right;\">\n",
       "      <th></th>\n",
       "      <th>% Body Fat</th>\n",
       "      <th>Biceps</th>\n",
       "      <th>Calves</th>\n",
       "      <th>Hips</th>\n",
       "      <th>Neck</th>\n",
       "      <th>Tights</th>\n",
       "      <th>Waist</th>\n",
       "      <th>Weight</th>\n",
       "    </tr>\n",
       "    <tr>\n",
       "      <th>Date</th>\n",
       "      <th></th>\n",
       "      <th></th>\n",
       "      <th></th>\n",
       "      <th></th>\n",
       "      <th></th>\n",
       "      <th></th>\n",
       "      <th></th>\n",
       "      <th></th>\n",
       "    </tr>\n",
       "  </thead>\n",
       "  <tbody>\n",
       "    <tr>\n",
       "      <th>2012-11-10</th>\n",
       "      <td>NaN</td>\n",
       "      <td>NaN</td>\n",
       "      <td>NaN</td>\n",
       "      <td>NaN</td>\n",
       "      <td>NaN</td>\n",
       "      <td>NaN</td>\n",
       "      <td>NaN</td>\n",
       "      <td>113.8</td>\n",
       "    </tr>\n",
       "    <tr>\n",
       "      <th>2012-11-11</th>\n",
       "      <td>NaN</td>\n",
       "      <td>NaN</td>\n",
       "      <td>NaN</td>\n",
       "      <td>NaN</td>\n",
       "      <td>NaN</td>\n",
       "      <td>NaN</td>\n",
       "      <td>NaN</td>\n",
       "      <td>114.1</td>\n",
       "    </tr>\n",
       "    <tr>\n",
       "      <th>2012-11-13</th>\n",
       "      <td>NaN</td>\n",
       "      <td>NaN</td>\n",
       "      <td>NaN</td>\n",
       "      <td>NaN</td>\n",
       "      <td>NaN</td>\n",
       "      <td>NaN</td>\n",
       "      <td>NaN</td>\n",
       "      <td>113.5</td>\n",
       "    </tr>\n",
       "    <tr>\n",
       "      <th>2012-11-18</th>\n",
       "      <td>NaN</td>\n",
       "      <td>NaN</td>\n",
       "      <td>NaN</td>\n",
       "      <td>NaN</td>\n",
       "      <td>NaN</td>\n",
       "      <td>NaN</td>\n",
       "      <td>NaN</td>\n",
       "      <td>113.9</td>\n",
       "    </tr>\n",
       "    <tr>\n",
       "      <th>2012-11-24</th>\n",
       "      <td>NaN</td>\n",
       "      <td>NaN</td>\n",
       "      <td>NaN</td>\n",
       "      <td>NaN</td>\n",
       "      <td>NaN</td>\n",
       "      <td>NaN</td>\n",
       "      <td>NaN</td>\n",
       "      <td>114.2</td>\n",
       "    </tr>\n",
       "  </tbody>\n",
       "</table>\n",
       "</div>"
      ],
      "text/plain": [
       "            % Body Fat  Biceps  Calves  Hips  Neck  Tights  Waist  Weight\n",
       "Date                                                                     \n",
       "2012-11-10         NaN     NaN     NaN   NaN   NaN     NaN    NaN   113.8\n",
       "2012-11-11         NaN     NaN     NaN   NaN   NaN     NaN    NaN   114.1\n",
       "2012-11-13         NaN     NaN     NaN   NaN   NaN     NaN    NaN   113.5\n",
       "2012-11-18         NaN     NaN     NaN   NaN   NaN     NaN    NaN   113.9\n",
       "2012-11-24         NaN     NaN     NaN   NaN   NaN     NaN    NaN   114.2"
      ]
     },
     "execution_count": 5,
     "metadata": {},
     "output_type": "execute_result"
    }
   ],
   "source": [
    "measurement.head()"
   ]
  },
  {
   "cell_type": "code",
   "execution_count": 6,
   "metadata": {},
   "outputs": [
    {
     "data": {
      "text/html": [
       "<div>\n",
       "<style>\n",
       "    .dataframe thead tr:only-child th {\n",
       "        text-align: right;\n",
       "    }\n",
       "\n",
       "    .dataframe thead th {\n",
       "        text-align: left;\n",
       "    }\n",
       "\n",
       "    .dataframe tbody tr th {\n",
       "        vertical-align: top;\n",
       "    }\n",
       "</style>\n",
       "<table border=\"1\" class=\"dataframe\">\n",
       "  <thead>\n",
       "    <tr style=\"text-align: right;\">\n",
       "      <th></th>\n",
       "      <th>Meal</th>\n",
       "      <th>Calories</th>\n",
       "      <th>Fat (g)</th>\n",
       "      <th>Saturated Fat</th>\n",
       "      <th>Polyunsaturated Fat</th>\n",
       "      <th>Monounsaturated Fat</th>\n",
       "      <th>Trans Fat</th>\n",
       "      <th>Cholesterol</th>\n",
       "      <th>Sodium (mg)</th>\n",
       "      <th>Potassium</th>\n",
       "      <th>Carbohydrates (g)</th>\n",
       "      <th>Fiber</th>\n",
       "      <th>Sugar</th>\n",
       "      <th>Protein (g)</th>\n",
       "      <th>Vitamin A</th>\n",
       "      <th>Vitamin C</th>\n",
       "      <th>Calcium</th>\n",
       "      <th>Iron</th>\n",
       "    </tr>\n",
       "    <tr>\n",
       "      <th>Date</th>\n",
       "      <th></th>\n",
       "      <th></th>\n",
       "      <th></th>\n",
       "      <th></th>\n",
       "      <th></th>\n",
       "      <th></th>\n",
       "      <th></th>\n",
       "      <th></th>\n",
       "      <th></th>\n",
       "      <th></th>\n",
       "      <th></th>\n",
       "      <th></th>\n",
       "      <th></th>\n",
       "      <th></th>\n",
       "      <th></th>\n",
       "      <th></th>\n",
       "      <th></th>\n",
       "      <th></th>\n",
       "    </tr>\n",
       "  </thead>\n",
       "  <tbody>\n",
       "    <tr>\n",
       "      <th>2012-11-10</th>\n",
       "      <td>Breakfast</td>\n",
       "      <td>230.0</td>\n",
       "      <td>18.8</td>\n",
       "      <td>2.6</td>\n",
       "      <td>4.0</td>\n",
       "      <td>8.0</td>\n",
       "      <td>0.0</td>\n",
       "      <td>0.0</td>\n",
       "      <td>120.2</td>\n",
       "      <td>190.0</td>\n",
       "      <td>5.4</td>\n",
       "      <td>3.2</td>\n",
       "      <td>1.2</td>\n",
       "      <td>12.8</td>\n",
       "      <td>0.0</td>\n",
       "      <td>0.0</td>\n",
       "      <td>34.0</td>\n",
       "      <td>8.0</td>\n",
       "    </tr>\n",
       "    <tr>\n",
       "      <th>2012-11-10</th>\n",
       "      <td>Lunch</td>\n",
       "      <td>805.0</td>\n",
       "      <td>35.0</td>\n",
       "      <td>14.7</td>\n",
       "      <td>0.0</td>\n",
       "      <td>11.9</td>\n",
       "      <td>0.0</td>\n",
       "      <td>182.0</td>\n",
       "      <td>2597.0</td>\n",
       "      <td>0.0</td>\n",
       "      <td>91.0</td>\n",
       "      <td>22.4</td>\n",
       "      <td>0.0</td>\n",
       "      <td>35.0</td>\n",
       "      <td>0.0</td>\n",
       "      <td>0.0</td>\n",
       "      <td>0.0</td>\n",
       "      <td>0.0</td>\n",
       "    </tr>\n",
       "    <tr>\n",
       "      <th>2012-11-10</th>\n",
       "      <td>Dinner</td>\n",
       "      <td>829.2</td>\n",
       "      <td>56.1</td>\n",
       "      <td>22.6</td>\n",
       "      <td>3.7</td>\n",
       "      <td>19.5</td>\n",
       "      <td>0.0</td>\n",
       "      <td>0.0</td>\n",
       "      <td>281.0</td>\n",
       "      <td>1627.5</td>\n",
       "      <td>74.0</td>\n",
       "      <td>7.5</td>\n",
       "      <td>72.0</td>\n",
       "      <td>25.7</td>\n",
       "      <td>89.6</td>\n",
       "      <td>127.8</td>\n",
       "      <td>17.8</td>\n",
       "      <td>12.2</td>\n",
       "    </tr>\n",
       "    <tr>\n",
       "      <th>2012-11-11</th>\n",
       "      <td>Breakfast</td>\n",
       "      <td>574.0</td>\n",
       "      <td>28.4</td>\n",
       "      <td>18.7</td>\n",
       "      <td>0.0</td>\n",
       "      <td>0.0</td>\n",
       "      <td>0.0</td>\n",
       "      <td>0.0</td>\n",
       "      <td>186.0</td>\n",
       "      <td>0.0</td>\n",
       "      <td>60.7</td>\n",
       "      <td>0.0</td>\n",
       "      <td>53.9</td>\n",
       "      <td>18.5</td>\n",
       "      <td>0.0</td>\n",
       "      <td>0.0</td>\n",
       "      <td>0.0</td>\n",
       "      <td>0.0</td>\n",
       "    </tr>\n",
       "    <tr>\n",
       "      <th>2012-11-11</th>\n",
       "      <td>Lunch</td>\n",
       "      <td>805.0</td>\n",
       "      <td>35.0</td>\n",
       "      <td>14.7</td>\n",
       "      <td>0.0</td>\n",
       "      <td>11.9</td>\n",
       "      <td>0.0</td>\n",
       "      <td>182.0</td>\n",
       "      <td>2597.0</td>\n",
       "      <td>0.0</td>\n",
       "      <td>91.0</td>\n",
       "      <td>22.4</td>\n",
       "      <td>0.0</td>\n",
       "      <td>35.0</td>\n",
       "      <td>0.0</td>\n",
       "      <td>0.0</td>\n",
       "      <td>0.0</td>\n",
       "      <td>0.0</td>\n",
       "    </tr>\n",
       "  </tbody>\n",
       "</table>\n",
       "</div>"
      ],
      "text/plain": [
       "                 Meal  Calories  Fat (g)  Saturated Fat  Polyunsaturated Fat  \\\n",
       "Date                                                                           \n",
       "2012-11-10  Breakfast     230.0     18.8            2.6                  4.0   \n",
       "2012-11-10      Lunch     805.0     35.0           14.7                  0.0   \n",
       "2012-11-10     Dinner     829.2     56.1           22.6                  3.7   \n",
       "2012-11-11  Breakfast     574.0     28.4           18.7                  0.0   \n",
       "2012-11-11      Lunch     805.0     35.0           14.7                  0.0   \n",
       "\n",
       "            Monounsaturated Fat  Trans Fat  Cholesterol  Sodium (mg)  \\\n",
       "Date                                                                   \n",
       "2012-11-10                  8.0        0.0          0.0        120.2   \n",
       "2012-11-10                 11.9        0.0        182.0       2597.0   \n",
       "2012-11-10                 19.5        0.0          0.0        281.0   \n",
       "2012-11-11                  0.0        0.0          0.0        186.0   \n",
       "2012-11-11                 11.9        0.0        182.0       2597.0   \n",
       "\n",
       "            Potassium  Carbohydrates (g)  Fiber  Sugar  Protein (g)  \\\n",
       "Date                                                                  \n",
       "2012-11-10      190.0                5.4    3.2    1.2         12.8   \n",
       "2012-11-10        0.0               91.0   22.4    0.0         35.0   \n",
       "2012-11-10     1627.5               74.0    7.5   72.0         25.7   \n",
       "2012-11-11        0.0               60.7    0.0   53.9         18.5   \n",
       "2012-11-11        0.0               91.0   22.4    0.0         35.0   \n",
       "\n",
       "            Vitamin A  Vitamin C  Calcium  Iron  \n",
       "Date                                             \n",
       "2012-11-10        0.0        0.0     34.0   8.0  \n",
       "2012-11-10        0.0        0.0      0.0   0.0  \n",
       "2012-11-10       89.6      127.8     17.8  12.2  \n",
       "2012-11-11        0.0        0.0      0.0   0.0  \n",
       "2012-11-11        0.0        0.0      0.0   0.0  "
      ]
     },
     "execution_count": 6,
     "metadata": {},
     "output_type": "execute_result"
    }
   ],
   "source": [
    "nutrition.head()"
   ]
  },
  {
   "cell_type": "markdown",
   "metadata": {},
   "source": [
    "The first thing which I don't like about this data is the presence of NaN values in my columns. I want to replace this with 0s so I can actually make calculations and etc.\n",
    "\n",
    "I know that I haven't filled the variables Sets, Reps Per Set and Kilograms consistently thus there is no point keeping them for our analysis. On the other hand you can see that the dataframe have multiple rows with the same index (3 entries for the same date) my aim is to simply aggregate this data to a single value and have only one entry per day which can describe all the data in the original table.\n",
    "\n",
    "In order to accomplish the data aggregation I will add some categorical variables to my excercise dataframe **Strength Training  - [yes/no]**\n",
    "\n",
    "\n",
    "It will not be much fun to try to aggregate the dataframe in place so I will simply make a new dataframe and transfer the aggregated information into it. Another reason why I don't want to do it in place is that my index values (the dates) are not continuous, for example some of the days I haven't logged any activity. In the end I want to perform a time-series analysis of this data and I would prefer not to have \"holes\" in the time-series. Thus I will add all missing days and simply give them value of 0."
   ]
  },
  {
   "cell_type": "code",
   "execution_count": null,
   "metadata": {
    "collapsed": true,
    "scrolled": true
   },
   "outputs": [],
   "source": [
    "exercise.fillna(value=0, inplace=True)\n",
    "\n",
    "exercise_agg = pd.DataFrame(-1, columns=['Calories Burned', \n",
    "                                        'Cardio Minutes', \n",
    "                                        'Strength Training'\n",
    "                                       ], index=pd.date_range(start=startDate, end=endDate ,freq='D'))\n",
    "\n",
    "exercise_agg['Calories Burned'] = exercise.groupby('Date')['Exercise Calories'].sum()\n",
    "exercise_agg['Cardio Minutes'] = exercise.groupby('Date')['Exercise Minutes'].sum()\n",
    "exercise_agg['Strength Training'] = exercise.groupby('Date')['Exercise Calories'].min()\n",
    "exercise_agg['Steps'] = exercise.groupby('Date')['Steps'].sum()\n",
    "exercise_agg.fillna(value=0, inplace=True)\n",
    "\n",
    "\n",
    "def boolStrength(x):\n",
    "    if x == 0.0:\n",
    "        return 'yes'\n",
    "    else:\n",
    "        return 'no'\n",
    "\n",
    "exercise_agg['Strength Training'] = exercise_agg['Strength Training'].apply(lambda x: boolStrength(x))"
   ]
  },
  {
   "cell_type": "markdown",
   "metadata": {},
   "source": [
    "And finally we got our data in the following form:"
   ]
  },
  {
   "cell_type": "code",
   "execution_count": null,
   "metadata": {
    "scrolled": false
   },
   "outputs": [],
   "source": [
    "exercise_agg.head()"
   ]
  },
  {
   "cell_type": "markdown",
   "metadata": {},
   "source": [
    "## Data Engineering for the Measurement Dataframe\n",
    "Showing the structure of the measurement dataframe"
   ]
  },
  {
   "cell_type": "code",
   "execution_count": null,
   "metadata": {
    "scrolled": true
   },
   "outputs": [],
   "source": [
    "measurement.head()"
   ]
  },
  {
   "cell_type": "markdown",
   "metadata": {},
   "source": [
    "I know that my measurments for hips, neck and waist are total garbage as I measured them only once and it wasn't even a proper measurment, thus I will simply remove them from the dataframe. Next thing which I will do is to extend the time-series of measurements and add all missing days. Now the question is what will I fill for weight for the days where I actually didn't measure it. Well I will use linear interpolation to fill in all the gaps."
   ]
  },
  {
   "cell_type": "code",
   "execution_count": null,
   "metadata": {
    "collapsed": true
   },
   "outputs": [],
   "source": [
    "measurement.drop(['Hips','Neck','Waist'], axis=1, inplace=True)"
   ]
  },
  {
   "cell_type": "code",
   "execution_count": null,
   "metadata": {},
   "outputs": [],
   "source": [
    "measurement_agg = pd.DataFrame(-1, columns=['Weight', \n",
    "                                            'dW',\n",
    "                                            'Age',\n",
    "                                            'BMI',\n",
    "                                            'Height'\n",
    "                                           ], index=pd.date_range(start=startDate, end=endDate ,freq='D'))\n",
    "\n",
    "measurement_agg['Weight'] = measurement.groupby('Date')['Weight'].mean()\n",
    "measurement_agg['Weight'].plot.line()"
   ]
  },
  {
   "cell_type": "markdown",
   "metadata": {},
   "source": [
    "Look at the gaps in weight measrements above. Let's fix this"
   ]
  },
  {
   "cell_type": "code",
   "execution_count": null,
   "metadata": {},
   "outputs": [],
   "source": [
    "fig, axes = plt.subplots()\n",
    "fig.set_size_inches(17, 6)\n",
    "\n",
    "measurement_agg['Weight'].interpolate(inplace=True)\n",
    "measurement_agg['Weight'].plot.line(color='b')\n",
    "axes.grid(color='black', alpha=0.5, linestyle='-.', linewidth=0.5)"
   ]
  },
  {
   "cell_type": "code",
   "execution_count": null,
   "metadata": {},
   "outputs": [],
   "source": [
    "measurement_agg.head()"
   ]
  },
  {
   "cell_type": "markdown",
   "metadata": {},
   "source": [
    "Now let's fill in the data in the rest of the columns:"
   ]
  },
  {
   "cell_type": "code",
   "execution_count": null,
   "metadata": {},
   "outputs": [],
   "source": [
    "measurement_agg['Height'] = 1.76  #constant durting the entire period\n",
    "measurement_agg['BMI'] = np.round(measurement_agg['Weight'] / measurement_agg['Height']**2,2)\n",
    "measurement_agg['Age'] = np.round((measurement_agg.index - pd.Timestamp('1988-06-07')) / pd.Timedelta(days=365),1)\n",
    "measurement_agg['dW'] = measurement_agg['Weight'].diff(periods=1)\n",
    "measurement_agg.at[measurement_agg.index[0],'dW'] = 0\n",
    "\n",
    "measurement_agg.fillna(value=0, inplace=True)\n",
    "measurement_agg.head()"
   ]
  },
  {
   "cell_type": "markdown",
   "metadata": {},
   "source": [
    "## Data Engineering for the Nutrition Dataframe\n",
    "Showing the structure of the nutrition dataframe"
   ]
  },
  {
   "cell_type": "code",
   "execution_count": null,
   "metadata": {
    "scrolled": false
   },
   "outputs": [],
   "source": [
    "nutrition.head()"
   ]
  },
  {
   "cell_type": "markdown",
   "metadata": {},
   "source": [
    "For this dataframe I again see that we have multiple entries per day which I don't like at all. The first task would be aggregation into a new data frame. Every time we do aggregation we lose from the original data. Thus I have to add some categorical variables so I don't compromise my analysis."
   ]
  },
  {
   "cell_type": "code",
   "execution_count": null,
   "metadata": {
    "collapsed": true,
    "scrolled": true
   },
   "outputs": [],
   "source": [
    "nutrition_agg = pd.DataFrame(0, columns=[   'Number of Meals', \n",
    "                                            'Mean Calories per Meal',\n",
    "                                            'Max Calories per Meal',\n",
    "                                            'Min Calories per Meal',\n",
    "                                            'Total Calories',\n",
    "                                            'Total Calories from Fat %',\n",
    "                                            'Total Calories from Carbs %',\n",
    "                                            'Total Calories from Protein %',\n",
    "                                            'Total Amount of Nutrients g'\n",
    "                                           ], index=pd.date_range(start=startDate, end=endDate ,freq='D'))\n",
    "\n",
    "nutrition_agg['Number of Meals'] = nutrition.groupby('Date')['Meal'].count()\n",
    "nutrition_agg['Total Calories'] = np.round(nutrition.groupby('Date')['Calories'].sum(),0)\n",
    "nutrition_agg['Mean Calories per Meal'] = np.round(nutrition.groupby('Date')['Calories'].mean(),0)\n",
    "nutrition_agg['Max Calories per Meal'] = np.round(nutrition.groupby('Date')['Calories'].max(),0)\n",
    "nutrition_agg['Min Calories per Meal'] = np.round(nutrition.groupby('Date')['Calories'].min(),0)\n",
    "\n",
    "nutrition_agg['Total Calories from Fat %'] = np.round((nutrition.groupby('Date')['Fat (g)'].sum() * 9 / \n",
    "                                              nutrition_agg['Total Calories'])*100,2) \n",
    "\n",
    "nutrition_agg['Total Calories from Carbs %'] = np.round((nutrition.groupby('Date')['Carbohydrates (g)'].sum() * 4 / \n",
    "                                              nutrition_agg['Total Calories'])*100,2) \n",
    "\n",
    "nutrition_agg['Total Calories from Protein %'] = np.round((nutrition.groupby('Date')['Protein (g)'].sum() * 4 / \n",
    "                                              nutrition_agg['Total Calories'])*100,2) \n",
    "\n",
    "nutrition_agg['Total Amount of Nutrients g'] = np.round(nutrition.groupby('Date')['Fat (g)'].sum() + \n",
    "                                                        nutrition.groupby('Date')['Carbohydrates (g)'].sum() +\n",
    "                                                        nutrition.groupby('Date')['Protein (g)'].sum(),2)\n",
    "nutrition_agg['Cholesterol mg'] = nutrition.groupby('Date')['Cholesterol'].sum()\n",
    "nutrition_agg['Potassium mg'] = nutrition.groupby('Date')['Potassium'].sum()\n",
    "nutrition_agg['Sodium mg'] = nutrition.groupby('Date')['Sodium (mg)'].sum()\n",
    "nutrition_agg['Fiber g'] = nutrition.groupby('Date')['Fiber'].sum()\n",
    "nutrition_agg['Sugar g'] = nutrition.groupby('Date')['Sugar'].sum()\n",
    "nutrition_agg['Vitamin A %'] = nutrition.groupby('Date')['Vitamin A'].sum()\n",
    "nutrition_agg['Vitamin C %'] = nutrition.groupby('Date')['Vitamin C'].sum()\n",
    "nutrition_agg['Calcium %'] = nutrition.groupby('Date')['Calcium'].sum()\n",
    "nutrition_agg['Iron %'] = nutrition.groupby('Date')['Iron'].sum()"
   ]
  },
  {
   "cell_type": "code",
   "execution_count": null,
   "metadata": {},
   "outputs": [],
   "source": [
    "nutrition_agg.fillna(value=0, inplace=True)\n",
    "nutrition_agg.head()"
   ]
  },
  {
   "cell_type": "markdown",
   "metadata": {
    "scrolled": false
   },
   "source": [
    "## Combining The Data"
   ]
  },
  {
   "cell_type": "markdown",
   "metadata": {},
   "source": [
    "As all my dataframes have in fact the same number of rows with the same key values I can simply stich the dataframes together column-wise, this is done really easy in Pandas:"
   ]
  },
  {
   "cell_type": "code",
   "execution_count": null,
   "metadata": {
    "collapsed": true
   },
   "outputs": [],
   "source": [
    "fullData = pd.concat([nutrition_agg, exercise_agg, measurement_agg], axis=1)"
   ]
  },
  {
   "cell_type": "code",
   "execution_count": null,
   "metadata": {
    "scrolled": true
   },
   "outputs": [],
   "source": [
    "fullData.head()"
   ]
  },
  {
   "cell_type": "markdown",
   "metadata": {},
   "source": [
    "So this was all the data which I have available. However to study the effects of the intermittent fasting I don't need all of that, as I started practicing it from **7th December 2017**. Since this date I have logged all my meals and excercies consistently, I only have some gaps for the weight as it is kind of pointless to weight yourself every day. Now I will slice the data and use only the numbers gathered after 7th Dec."
   ]
  },
  {
   "cell_type": "code",
   "execution_count": null,
   "metadata": {
    "collapsed": true,
    "scrolled": false
   },
   "outputs": [],
   "source": [
    "df = fullData['2017-12-07':]"
   ]
  },
  {
   "cell_type": "markdown",
   "metadata": {},
   "source": [
    "I want to add one more column to our dataframe:"
   ]
  },
  {
   "cell_type": "code",
   "execution_count": null,
   "metadata": {},
   "outputs": [],
   "source": [
    "df.index.name = 'Date'\n",
    "df['Net Calories'] = nutrition_agg['Total Calories'] - exercise_agg['Calories Burned']"
   ]
  },
  {
   "cell_type": "markdown",
   "metadata": {},
   "source": [
    "## Exploratory Data Analysis"
   ]
  },
  {
   "cell_type": "code",
   "execution_count": null,
   "metadata": {},
   "outputs": [],
   "source": [
    "sns.distplot(df['dW'], bins=5)"
   ]
  },
  {
   "cell_type": "code",
   "execution_count": null,
   "metadata": {
    "scrolled": false
   },
   "outputs": [],
   "source": [
    "fig, ax = plt.subplots(figsize=(17,9)) # increasing the original size of the heatmap\n",
    "sns.heatmap(df.corr(), cmap='coolwarm', annot=True)"
   ]
  },
  {
   "cell_type": "code",
   "execution_count": null,
   "metadata": {},
   "outputs": [],
   "source": [
    "df.describe()"
   ]
  },
  {
   "cell_type": "code",
   "execution_count": null,
   "metadata": {},
   "outputs": [],
   "source": [
    "df_vis = df[['Net Calories', 'Total Amount of Nutrients g', 'Fiber g', 'Total Calories from Fat %', \n",
    "             'Total Calories from Carbs %', 'Total Calories from Protein %', 'Steps', 'dW']]\n",
    "\n",
    "sns.pairplot(df_vis)"
   ]
  },
  {
   "cell_type": "code",
   "execution_count": null,
   "metadata": {},
   "outputs": [],
   "source": [
    "sns.lmplot(y='dW', x='Net Calories', data=df)"
   ]
  },
  {
   "cell_type": "code",
   "execution_count": null,
   "metadata": {},
   "outputs": [],
   "source": [
    "sns.lmplot(y='dW', x='Total Amount of Nutrients g', data=df)"
   ]
  },
  {
   "cell_type": "code",
   "execution_count": null,
   "metadata": {},
   "outputs": [],
   "source": [
    "sns.lmplot(y='dW', x='Fiber g', data=df)"
   ]
  },
  {
   "cell_type": "code",
   "execution_count": null,
   "metadata": {},
   "outputs": [],
   "source": [
    "sns.lmplot(y='dW', x='Total Calories from Fat %', data=df)"
   ]
  },
  {
   "cell_type": "code",
   "execution_count": null,
   "metadata": {},
   "outputs": [],
   "source": [
    "sns.lmplot(y='dW', x='Total Calories from Carbs %', data=df)"
   ]
  },
  {
   "cell_type": "code",
   "execution_count": null,
   "metadata": {},
   "outputs": [],
   "source": [
    "sns.lmplot(y='dW', x='Total Calories from Protein %', data=df)"
   ]
  },
  {
   "cell_type": "code",
   "execution_count": null,
   "metadata": {
    "scrolled": false
   },
   "outputs": [],
   "source": [
    "sns.lmplot(y='dW', x='Steps', data=df)"
   ]
  },
  {
   "cell_type": "code",
   "execution_count": null,
   "metadata": {
    "scrolled": false
   },
   "outputs": [],
   "source": [
    "sns.clustermap(df.corr())"
   ]
  },
  {
   "cell_type": "code",
   "execution_count": null,
   "metadata": {},
   "outputs": [],
   "source": [
    "fig, axes = plt.subplots()\n",
    "\n",
    "fig.set_size_inches(16, 6)\n",
    "\n",
    "axes.plot(df.index, df['Weight'], lw=3, marker='o', markersize=10)\n",
    "\n",
    "labels = [\"Fat % \", \"Carbs %\", \"Protein %\"]\n",
    "axes.stackplot(df.index, df['Total Calories from Fat %'], \n",
    "                         df['Total Calories from Carbs %'], \n",
    "                         df['Total Calories from Protein %'],\n",
    "                         labels = labels)\n",
    "\n",
    "axes.legend(loc=7, bbox_to_anchor=(1.1, 0.5))\n",
    "axes.grid(color='b', alpha=0.5, linestyle='dashed', linewidth=0.5)\n",
    "axes.set_title('Time-History');"
   ]
  },
  {
   "cell_type": "code",
   "execution_count": null,
   "metadata": {},
   "outputs": [],
   "source": [
    "fig, axes = plt.subplots()\n",
    "\n",
    "fig.set_size_inches(15, 6)\n",
    "\n",
    "axes.plot(df.index, df['Weight'], lw=3, marker='o', markersize=10)\n",
    "\n",
    "ax2 = axes.twinx()\n",
    "ax2.plot(df.index, df['Net Calories'], 'r')\n",
    "\n",
    "axes.legend(loc=7, bbox_to_anchor=(1.15, 0.5))\n",
    "axes.grid(color='b', alpha=0.5, linestyle='dashed', linewidth=0.5)\n",
    "axes.set_title('Time-History');"
   ]
  },
  {
   "cell_type": "markdown",
   "metadata": {},
   "source": [
    "## Linear Regression"
   ]
  },
  {
   "cell_type": "code",
   "execution_count": null,
   "metadata": {},
   "outputs": [],
   "source": [
    "df.columns"
   ]
  },
  {
   "cell_type": "code",
   "execution_count": null,
   "metadata": {
    "collapsed": true
   },
   "outputs": [],
   "source": [
    "X = df[['Net Calories', 'Steps', 'Total Amount of Nutrients g', 'Fiber g']]\n",
    "\n",
    "y = df['dW']"
   ]
  },
  {
   "cell_type": "code",
   "execution_count": null,
   "metadata": {
    "scrolled": false
   },
   "outputs": [],
   "source": [
    "from sklearn.model_selection import train_test_split\n",
    "X_train, X_test, y_train, y_test = train_test_split(X, y, test_size=0.3, random_state=101)\n",
    "\n",
    "from sklearn.linear_model import LinearRegression\n",
    "lm = LinearRegression()\n",
    "lm.fit(X_train,y_train)\n",
    "\n",
    "prediction = lm.predict(X_test)\n",
    "\n",
    "acc_lm_train = round(lm.score(X_train, y_train) * 100, 2)\n",
    "acc_lm_test = round(lm.score(X_test, y_test) * 100 ,2)\n",
    "print(\"Accuracy on the training Set\", round(acc_lm_train,2,), \"%\")\n",
    "print(\"Accuracy on the testing Set\", round(acc_lm_test,2,), \"%\")\n",
    "\n",
    "from sklearn import metrics\n",
    "print('MAE:', metrics.mean_absolute_error(y_test, prediction))\n",
    "print('MSE:', metrics.mean_squared_error(y_test, prediction))\n",
    "print('RMSE:', np.sqrt(metrics.mean_squared_error(y_test, prediction)))\n",
    "\n",
    "plt.scatter(y_test,prediction)"
   ]
  },
  {
   "cell_type": "code",
   "execution_count": null,
   "metadata": {},
   "outputs": [],
   "source": [
    "sns.distplot((y_test-prediction))"
   ]
  },
  {
   "cell_type": "markdown",
   "metadata": {},
   "source": [
    "## Random Forest"
   ]
  },
  {
   "cell_type": "code",
   "execution_count": null,
   "metadata": {
    "scrolled": false
   },
   "outputs": [],
   "source": [
    "from sklearn.ensemble import RandomForestRegressor\n",
    "\n",
    "features = X.columns\n",
    "\n",
    "forest = RandomForestRegressor(n_estimators=500, random_state = 0, oob_score = True, max_depth=3)\n",
    "forest.fit(X_train, y_train)\n",
    "\n",
    "prediction = forest.predict(X_test)\n",
    "\n",
    "forest.score(X_train,y_train)\n",
    "acc_forest_train = round(forest.score(X_train, y_train) * 100, 2)\n",
    "acc_forest_test = round(forest.score(X_test, y_test) * 100 ,2)\n",
    "\n",
    "print(\"Accuracy on the training Set\", round(acc_forest_train,2,), \"%\")\n",
    "print(\"Accuracy on the testing Set\", round(acc_forest_test,2,), \"%\")\n",
    "\n",
    "from sklearn import metrics\n",
    "print('MAE:', metrics.mean_absolute_error(y_test, prediction))\n",
    "print('MSE:', metrics.mean_squared_error(y_test, prediction))\n",
    "print('RMSE:', np.sqrt(metrics.mean_squared_error(y_test, prediction)))\n",
    "\n",
    "plt.scatter(y_test,prediction)"
   ]
  },
  {
   "cell_type": "code",
   "execution_count": null,
   "metadata": {},
   "outputs": [],
   "source": [
    "sns.distplot((y_test-prediction))"
   ]
  },
  {
   "cell_type": "code",
   "execution_count": null,
   "metadata": {},
   "outputs": [],
   "source": [
    "from sklearn.externals.six import StringIO  \n",
    "from IPython.display import Image  \n",
    "from sklearn.tree import export_graphviz\n",
    "import pydot\n",
    "\n",
    "import os     \n",
    "os.environ[\"PATH\"] += os.pathsep + 'C:/anaconda3/Library/bin/graphviz'\n",
    "\n",
    "dot_data = StringIO()\n",
    "export_graphviz(forest[0], out_file=dot_data,  \n",
    "                filled=True, rounded=True,\n",
    "                special_characters=True,\n",
    "                feature_names=features)\n",
    "graph = pydot.graph_from_dot_data(dot_data.getvalue())  \n",
    "Image(graph[0].create_png())"
   ]
  },
  {
   "cell_type": "markdown",
   "metadata": {},
   "source": [
    "## Linear Regression using StatsModels not Sckikit-Learn"
   ]
  },
  {
   "cell_type": "code",
   "execution_count": null,
   "metadata": {},
   "outputs": [],
   "source": [
    "import statsmodels.api as sm\n",
    "from statsmodels.sandbox.regression.predstd import wls_prediction_std\n",
    "\n",
    "X_train = sm.add_constant(X_train)\n",
    "lm1 = sm.OLS(y_train, X_train)\n",
    "prediction = lm1.fit()\n",
    "\n",
    "print(prediction.summary())"
   ]
  },
  {
   "cell_type": "markdown",
   "metadata": {},
   "source": [
    "## New Approach Needed\n",
    "\n",
    "It seems that I will not be able to find what causes weight loss looking only in short term results - dW. This means that I need to construct new variables and new ways to measure what is actually taking place in my body. So let's start.\n",
    "\n",
    "But first let's check what we have so far:"
   ]
  },
  {
   "cell_type": "code",
   "execution_count": null,
   "metadata": {
    "scrolled": false
   },
   "outputs": [],
   "source": [
    "df.head()"
   ]
  },
  {
   "cell_type": "code",
   "execution_count": null,
   "metadata": {},
   "outputs": [],
   "source": [
    "df.columns"
   ]
  },
  {
   "cell_type": "code",
   "execution_count": null,
   "metadata": {
    "scrolled": false
   },
   "outputs": [],
   "source": [
    "df['Streak'] = range(0,len(df.index),1)\n",
    "df['BMR'] = 10*df['Weight'] + 625*df['Height'] + 5*df['Age'] + 5\n",
    "df['Caloric Balance'] = df['Net Calories'] - df['BMR']\n",
    "df['Cumulative Caloric Balance'] = df['Caloric Balance'].cumsum()\n",
    "df['Calculated Weight kg'] = df.ix[0]['Weight'] + df['Cumulative Caloric Balance']/9000\n",
    "\n",
    "fig, axes = plt.subplots()\n",
    "\n",
    "fig.set_size_inches(15, 6)\n",
    "\n",
    "axes.plot(df.index, df['Weight'], lw=3, marker='o', markersize=10)\n",
    "axes.plot(df.index, df['Calculated Weight kg'], 'r', lw=3, marker='o', markersize=10)\n",
    "\n",
    "axes.legend()\n",
    "axes.grid(color='b', alpha=0.5, linestyle='dashed', linewidth=0.5)\n",
    "axes.set_title('Time-History');"
   ]
  },
  {
   "cell_type": "markdown",
   "metadata": {},
   "source": [
    "You see that using the simple calories equation almost got me a realistic estimate of the weight loss process. However there are other factors which drive the weight loss process, you see that they are actually accelerating it ... This is what I want to find out, what are these factors. But first let's calculate what was my exact BMR during each day:"
   ]
  },
  {
   "cell_type": "code",
   "execution_count": null,
   "metadata": {
    "scrolled": false
   },
   "outputs": [],
   "source": [
    "df['Cumulative Caloric Balance A'] = (df['Weight'] - df.ix[0]['Weight'])*9000\n",
    "df['Caloric Balance A'] = df['Cumulative Caloric Balance A'].diff()\n",
    "df['Daily BMR'] = df['Caloric Balance A'] - df['Net Calories']\n",
    "\n",
    "df['Caloric Balance'] = df['Net Calories'] + df['Daily BMR']\n",
    "df['Cumulative Caloric Balance'] = df['Caloric Balance'].cumsum()\n",
    "df['Calculated Weight kg'] = df.ix[0]['Weight'] + df['Cumulative Caloric Balance']/9000\n",
    "\n",
    "fig, axes = plt.subplots()\n",
    "\n",
    "fig.set_size_inches(15, 6)\n",
    "\n",
    "axes.plot(df.index, df['Weight'], lw=3, marker='o', markersize=10)\n",
    "axes.plot(df.index, df['Calculated Weight kg'], 'r', lw=3, marker='o', markersize=10)\n",
    "\n",
    "axes.legend()\n",
    "axes.grid(color='b', alpha=0.5, linestyle='dashed', linewidth=0.5)\n",
    "axes.set_title('Time-History');"
   ]
  },
  {
   "cell_type": "code",
   "execution_count": null,
   "metadata": {
    "scrolled": true
   },
   "outputs": [],
   "source": [
    "df['Daily BMR'].describe()"
   ]
  },
  {
   "cell_type": "markdown",
   "metadata": {},
   "source": [
    "Ok now I have my daily BMR values, let's run a regression to see if there is a pattern."
   ]
  },
  {
   "cell_type": "code",
   "execution_count": null,
   "metadata": {
    "scrolled": true
   },
   "outputs": [],
   "source": [
    "df.columns"
   ]
  },
  {
   "cell_type": "code",
   "execution_count": null,
   "metadata": {
    "scrolled": false
   },
   "outputs": [],
   "source": [
    "'''X = df[['Number of Meals', \n",
    "       'Total Calories', \n",
    "       'Total Calories from Fat %',\n",
    "       'Total Calories from Carbs %', \n",
    "       'Total Calories from Protein %',\n",
    "       'Total Amount of Nutrients g', \n",
    "       'Cholesterol mg', \n",
    "       'Potassium mg',\n",
    "       'Sodium mg', \n",
    "       'Fiber g', \n",
    "       'Sugar g', \n",
    "       'Vitamin A %', \n",
    "       'Vitamin C %',\n",
    "       'Calcium %', \n",
    "       'Iron %', \n",
    "       'Cardio Minutes',\n",
    "       'Net Calories'\n",
    "       ]]'''\n",
    "\n",
    "X = df[[\n",
    "       'Total Calories from Fat %',\n",
    "       'Potassium mg',\n",
    "       'Sugar g', \n",
    "       'Vitamin C %',\n",
    "       'Calcium %', \n",
    "       'Iron %', \n",
    "       'Cardio Minutes',\n",
    "       'Net Calories'\n",
    "       ]]\n",
    "\n",
    "'''X = df[[\n",
    "       'Total Calories from Carbs %', \n",
    "       'Vitamin C %',\n",
    "       'BMI',\n",
    "       ]]'''\n",
    "\n",
    "y = df['Daily BMR']\n",
    "y.ix[0] = np.mean(y)"
   ]
  },
  {
   "cell_type": "code",
   "execution_count": null,
   "metadata": {
    "scrolled": true
   },
   "outputs": [],
   "source": [
    "X.head()"
   ]
  },
  {
   "cell_type": "markdown",
   "metadata": {},
   "source": [
    "## Random Forest"
   ]
  },
  {
   "cell_type": "code",
   "execution_count": null,
   "metadata": {
    "collapsed": true
   },
   "outputs": [],
   "source": [
    "features = X.columns\n",
    "\n",
    "X_train, X_test, y_train, y_test = train_test_split(X, y, test_size=0.3, random_state=0)"
   ]
  },
  {
   "cell_type": "code",
   "execution_count": null,
   "metadata": {
    "scrolled": true
   },
   "outputs": [],
   "source": [
    "from sklearn.model_selection import GridSearchCV\n",
    "\n",
    "estimator = RandomForestRegressor()\n",
    "    \n",
    "param_grid = { \n",
    "        \"n_estimators\"      : [10],\n",
    "        \"min_samples_leaf\"  : range(1,21,1),\n",
    "        \"min_samples_split\" : range(2,11,1),\n",
    "        \"max_depth\"         : range(2,11,1),\n",
    "        \"oob_score\"         : [True],\n",
    "        \"random_state\"      : [0]\n",
    "        }\n",
    "\n",
    "grid = GridSearchCV(estimator, param_grid, n_jobs=-1, return_train_score=True, scoring='neg_mean_squared_error')\n",
    "grid.fit(X_train, y_train)"
   ]
  },
  {
   "cell_type": "code",
   "execution_count": null,
   "metadata": {},
   "outputs": [],
   "source": [
    "grid.best_score_ , grid.best_params_"
   ]
  },
  {
   "cell_type": "code",
   "execution_count": null,
   "metadata": {},
   "outputs": [],
   "source": [
    "forest = RandomForestRegressor(n_estimators=10, random_state = 0, \n",
    "                               oob_score = True, min_samples_leaf=7, max_depth = 2,\n",
    "                               min_samples_split=2)\n",
    "forest.fit(X_train, y_train)\n",
    "\n",
    "prediction = forest.predict(X_test)\n",
    "\n",
    "print(\"Accuracy on the training Set\", round(forest.score(X_train, y_train) * 100, 2), \"%\")\n",
    "print(\"Accuracy on the testing Set\", round(forest.score(X_test, y_test) * 100 ,2), \"%\")\n",
    "print(\"Out-of-bound score \", round(forest.oob_score_,2))\n",
    "print('RMSE on Training Set:', np.round(np.sqrt(metrics.mean_squared_error(y_train, forest.predict(X_train))),0))\n",
    "print('RMSE on Testing Set:', np.round(np.sqrt(metrics.mean_squared_error(y_test, forest.predict(X_test))),0))\n",
    "\n",
    "plt.scatter(y_test,prediction)"
   ]
  },
  {
   "cell_type": "code",
   "execution_count": null,
   "metadata": {
    "scrolled": false
   },
   "outputs": [],
   "source": [
    "forest.feature_importances_\n",
    "\n",
    "bar_x = range(len(forest.feature_importances_))\n",
    "\n",
    "indices = np.argsort(forest.feature_importances_)\n",
    "sorted_importances = []\n",
    "\n",
    "for i in indices:\n",
    "    sorted_importances.append(X.columns[i])\n",
    "\n",
    "fig, ax = plt.subplots(figsize=(17,6))\n",
    "plt.barh(bar_x, forest.feature_importances_[indices])\n",
    "plt.yticks(bar_x, sorted_importances)"
   ]
  },
  {
   "cell_type": "code",
   "execution_count": null,
   "metadata": {
    "scrolled": false
   },
   "outputs": [],
   "source": [
    "tree_scores = [tree.score(X_train, y_train) for tree in forest]\n",
    "\n",
    "best_tree = tree_scores.index(max(tree_scores))\n",
    "\n",
    "dot_data = StringIO()\n",
    "export_graphviz(forest[best_tree], \n",
    "                out_file=dot_data,  \n",
    "                filled=True,\n",
    "                precision=0,\n",
    "                special_characters=True,\n",
    "                feature_names=features,\n",
    "                leaves_parallel=True,\n",
    "                rounded=True,\n",
    "                rotate=False, \n",
    "                proportion=True, \n",
    "                impurity=False\n",
    "               )\n",
    "graph = pydot.graph_from_dot_data(dot_data.getvalue())  \n",
    "Image(graph[0].create_png())"
   ]
  },
  {
   "cell_type": "code",
   "execution_count": null,
   "metadata": {},
   "outputs": [],
   "source": [
    "fig, ax = plt.subplots(figsize=(17,10))\n",
    "\n",
    "ax.plot(df['Streak'], y, 'o-', label=\"data\")\n",
    "ax.plot(df['Streak'], forest.predict(X), 'r', label=\"Tree\")\n",
    "ax.legend(loc='best');\n",
    "ax.grid(color='g', alpha=0.5, linestyle='dashed', linewidth=0.5)"
   ]
  },
  {
   "cell_type": "markdown",
   "metadata": {},
   "source": [
    "## OLS"
   ]
  },
  {
   "cell_type": "code",
   "execution_count": null,
   "metadata": {
    "collapsed": true,
    "scrolled": false
   },
   "outputs": [],
   "source": [
    "lm2 = sm.OLS(y, X)\n",
    "prediction = lm2.fit(use_t=True, )"
   ]
  },
  {
   "cell_type": "code",
   "execution_count": null,
   "metadata": {},
   "outputs": [],
   "source": [
    "print(prediction.summary2())"
   ]
  },
  {
   "cell_type": "code",
   "execution_count": null,
   "metadata": {},
   "outputs": [],
   "source": [
    "prediction.predict([80,500,25,100,20,1,60,1500])"
   ]
  },
  {
   "cell_type": "code",
   "execution_count": null,
   "metadata": {
    "scrolled": false
   },
   "outputs": [],
   "source": [
    "prstd, iv_l, iv_u = wls_prediction_std(prediction)\n",
    "\n",
    "fig, ax = plt.subplots(figsize=(17,10))\n",
    "\n",
    "ax.plot(df['Streak'], y, 'o-', label=\"data\")\n",
    "ax.plot(df['Streak'], prediction.fittedvalues, 'r--', label=\"OLS\")\n",
    "ax.plot(df['Streak'], forest.predict(X), 'y--', label=\"Tree\")\n",
    "#ax.plot(df['Streak'], iv_u, 'r--')\n",
    "#ax.plot(df['Streak'], iv_l, 'r--')\n",
    "ax.legend(loc='best');\n",
    "ax.grid(color='g', alpha=0.5, linestyle='dashed', linewidth=0.5)"
   ]
  },
  {
   "cell_type": "code",
   "execution_count": null,
   "metadata": {},
   "outputs": [],
   "source": [
    "fig, ax = plt.subplots(figsize=(17,10))\n",
    "plt.scatter(y,prediction.fittedvalues)"
   ]
  },
  {
   "cell_type": "code",
   "execution_count": null,
   "metadata": {},
   "outputs": [],
   "source": [
    "fig, ax = plt.subplots(figsize=(17,10))\n",
    "sns.distplot(y-prediction.fittedvalues)"
   ]
  },
  {
   "cell_type": "code",
   "execution_count": null,
   "metadata": {},
   "outputs": [],
   "source": [
    "df_corr =  df[[\n",
    "       'Total Calories from Fat %',\n",
    "       'Potassium mg',\n",
    "       'Sugar g', \n",
    "       'Vitamin C %',\n",
    "       'Calcium %', \n",
    "       'Iron %', \n",
    "       'Cardio Minutes',\n",
    "       'Net Calories', \n",
    "       'Daily BMR'\n",
    "       ]]\n",
    "\n",
    "fig, ax = plt.subplots(figsize=(17,10))\n",
    "sns.heatmap(df_corr.corr(), cmap='coolwarm', annot=True, linewidths=5, )"
   ]
  },
  {
   "cell_type": "code",
   "execution_count": null,
   "metadata": {},
   "outputs": [],
   "source": [
    "sns.pairplot(df_corr)"
   ]
  },
  {
   "cell_type": "code",
   "execution_count": null,
   "metadata": {},
   "outputs": [],
   "source": [
    "fig, ax = plt.subplots(figsize=(17,10))\n",
    "sns.barplot(x = df['Streak'], y = df['Net Calories'], color='b')"
   ]
  }
 ],
 "metadata": {
  "kernelspec": {
   "display_name": "Python 3",
   "language": "python",
   "name": "python3"
  },
  "language_info": {
   "codemirror_mode": {
    "name": "ipython",
    "version": 3
   },
   "file_extension": ".py",
   "mimetype": "text/x-python",
   "name": "python",
   "nbconvert_exporter": "python",
   "pygments_lexer": "ipython3",
   "version": "3.6.3"
  }
 },
 "nbformat": 4,
 "nbformat_minor": 2
}
