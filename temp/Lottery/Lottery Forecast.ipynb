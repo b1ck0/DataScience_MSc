{
 "cells": [
  {
   "cell_type": "code",
   "execution_count": 181,
   "metadata": {},
   "outputs": [],
   "source": [
    "import pandas as pd\n",
    "import numpy as np\n",
    "import matplotlib.pyplot as plt\n",
    "from scipy import spatial\n",
    "\n",
    "%matplotlib inline"
   ]
  },
  {
   "cell_type": "code",
   "execution_count": 182,
   "metadata": {},
   "outputs": [],
   "source": [
    "plt.rcParams['figure.figsize'] = (8,8)"
   ]
  },
  {
   "cell_type": "code",
   "execution_count": 183,
   "metadata": {},
   "outputs": [],
   "source": [
    "df = pd.read_csv('draws.csv')\n",
    "\n",
    "df = df.sort_values(['year', 'draw'], ascending=True)\n",
    "\n",
    "df.reset_index(drop=True, inplace=True)"
   ]
  },
  {
   "cell_type": "code",
   "execution_count": 184,
   "metadata": {},
   "outputs": [],
   "source": [
    "df['set'] = df.apply(lambda row: [row['N1'], row['N2'], row['N3'], row['N4'], row['N5'], row['N6']], axis=1)"
   ]
  },
  {
   "cell_type": "code",
   "execution_count": 185,
   "metadata": {},
   "outputs": [],
   "source": [
    "df['sum'] = df[['N1', 'N2', 'N3', 'N4', 'N5', 'N6']].sum(axis=1)"
   ]
  },
  {
   "cell_type": "code",
   "execution_count": 186,
   "metadata": {},
   "outputs": [],
   "source": [
    "df['cosine'] = np.nan\n",
    "df['euclidean'] = np.nan\n",
    "df['taxicab'] = np.nan"
   ]
  },
  {
   "cell_type": "code",
   "execution_count": 187,
   "metadata": {},
   "outputs": [],
   "source": [
    "def cosine(a,b):\n",
    "    return spatial.distance.cosine(a, b)\n",
    "\n",
    "def euclidean(a,b):\n",
    "    return np.sqrt(np.sum((np.array(a) - np.array(b))**2))\n",
    "\n",
    "def taxicab(a,b):\n",
    "    return np.sum((np.array(a) - np.array(b)))\n",
    "\n",
    "def delta(a,b):\n",
    "    return np.array(a) - np.array(b)"
   ]
  },
  {
   "cell_type": "code",
   "execution_count": 188,
   "metadata": {},
   "outputs": [],
   "source": [
    "for i in range(1,len(df)):\n",
    "    df.loc[i,'cosine'] = cosine(df.loc[i,'set'], df.loc[i-1, 'set'])\n",
    "    df.loc[i,'euclidean'] = euclidean(df.loc[i,'set'], df.loc[i-1, 'set'])\n",
    "    df.loc[i,'taxicab'] = taxicab(df.loc[i,'set'], df.loc[i-1, 'set'])"
   ]
  },
  {
   "cell_type": "code",
   "execution_count": 189,
   "metadata": {},
   "outputs": [
    {
     "data": {
      "text/html": [
       "<div>\n",
       "<style scoped>\n",
       "    .dataframe tbody tr th:only-of-type {\n",
       "        vertical-align: middle;\n",
       "    }\n",
       "\n",
       "    .dataframe tbody tr th {\n",
       "        vertical-align: top;\n",
       "    }\n",
       "\n",
       "    .dataframe thead th {\n",
       "        text-align: right;\n",
       "    }\n",
       "</style>\n",
       "<table border=\"1\" class=\"dataframe\">\n",
       "  <thead>\n",
       "    <tr style=\"text-align: right;\">\n",
       "      <th></th>\n",
       "      <th>draw</th>\n",
       "      <th>N1</th>\n",
       "      <th>N2</th>\n",
       "      <th>N3</th>\n",
       "      <th>N4</th>\n",
       "      <th>N5</th>\n",
       "      <th>N6</th>\n",
       "      <th>year</th>\n",
       "      <th>set</th>\n",
       "      <th>sum</th>\n",
       "      <th>cosine</th>\n",
       "      <th>euclidean</th>\n",
       "      <th>taxicab</th>\n",
       "    </tr>\n",
       "  </thead>\n",
       "  <tbody>\n",
       "    <tr>\n",
       "      <th>0</th>\n",
       "      <td>1</td>\n",
       "      <td>5</td>\n",
       "      <td>6</td>\n",
       "      <td>9</td>\n",
       "      <td>30</td>\n",
       "      <td>42</td>\n",
       "      <td>44</td>\n",
       "      <td>2007</td>\n",
       "      <td>[5, 6, 9, 30, 42, 44]</td>\n",
       "      <td>136</td>\n",
       "      <td>NaN</td>\n",
       "      <td>NaN</td>\n",
       "      <td>NaN</td>\n",
       "    </tr>\n",
       "    <tr>\n",
       "      <th>1</th>\n",
       "      <td>2</td>\n",
       "      <td>8</td>\n",
       "      <td>10</td>\n",
       "      <td>14</td>\n",
       "      <td>27</td>\n",
       "      <td>28</td>\n",
       "      <td>29</td>\n",
       "      <td>2007</td>\n",
       "      <td>[8, 10, 14, 27, 28, 29]</td>\n",
       "      <td>116</td>\n",
       "      <td>0.027721</td>\n",
       "      <td>21.908902</td>\n",
       "      <td>-20.0</td>\n",
       "    </tr>\n",
       "    <tr>\n",
       "      <th>2</th>\n",
       "      <td>3</td>\n",
       "      <td>21</td>\n",
       "      <td>34</td>\n",
       "      <td>39</td>\n",
       "      <td>44</td>\n",
       "      <td>45</td>\n",
       "      <td>46</td>\n",
       "      <td>2007</td>\n",
       "      <td>[21, 34, 39, 44, 45, 46]</td>\n",
       "      <td>229</td>\n",
       "      <td>0.031933</td>\n",
       "      <td>47.296934</td>\n",
       "      <td>113.0</td>\n",
       "    </tr>\n",
       "    <tr>\n",
       "      <th>3</th>\n",
       "      <td>4</td>\n",
       "      <td>8</td>\n",
       "      <td>9</td>\n",
       "      <td>23</td>\n",
       "      <td>25</td>\n",
       "      <td>31</td>\n",
       "      <td>37</td>\n",
       "      <td>2007</td>\n",
       "      <td>[8, 9, 23, 25, 31, 37]</td>\n",
       "      <td>133</td>\n",
       "      <td>0.036105</td>\n",
       "      <td>41.085277</td>\n",
       "      <td>-96.0</td>\n",
       "    </tr>\n",
       "    <tr>\n",
       "      <th>4</th>\n",
       "      <td>5</td>\n",
       "      <td>7</td>\n",
       "      <td>11</td>\n",
       "      <td>24</td>\n",
       "      <td>26</td>\n",
       "      <td>27</td>\n",
       "      <td>46</td>\n",
       "      <td>2007</td>\n",
       "      <td>[7, 11, 24, 26, 27, 46]</td>\n",
       "      <td>141</td>\n",
       "      <td>0.009934</td>\n",
       "      <td>10.198039</td>\n",
       "      <td>8.0</td>\n",
       "    </tr>\n",
       "  </tbody>\n",
       "</table>\n",
       "</div>"
      ],
      "text/plain": [
       "   draw  N1  N2  N3  N4  N5  N6  year                       set  sum  \\\n",
       "0     1   5   6   9  30  42  44  2007     [5, 6, 9, 30, 42, 44]  136   \n",
       "1     2   8  10  14  27  28  29  2007   [8, 10, 14, 27, 28, 29]  116   \n",
       "2     3  21  34  39  44  45  46  2007  [21, 34, 39, 44, 45, 46]  229   \n",
       "3     4   8   9  23  25  31  37  2007    [8, 9, 23, 25, 31, 37]  133   \n",
       "4     5   7  11  24  26  27  46  2007   [7, 11, 24, 26, 27, 46]  141   \n",
       "\n",
       "     cosine  euclidean  taxicab  \n",
       "0       NaN        NaN      NaN  \n",
       "1  0.027721  21.908902    -20.0  \n",
       "2  0.031933  47.296934    113.0  \n",
       "3  0.036105  41.085277    -96.0  \n",
       "4  0.009934  10.198039      8.0  "
      ]
     },
     "execution_count": 189,
     "metadata": {},
     "output_type": "execute_result"
    }
   ],
   "source": [
    "df.head()"
   ]
  },
  {
   "cell_type": "code",
   "execution_count": 190,
   "metadata": {},
   "outputs": [
    {
     "data": {
      "text/plain": [
       "<matplotlib.axes._subplots.AxesSubplot at 0x217c8980438>"
      ]
     },
     "execution_count": 190,
     "metadata": {},
     "output_type": "execute_result"
    },
    {
     "data": {
      "image/png": "[encoded data removed]",
      "text/plain": [
       "<Figure size 576x576 with 1 Axes>"
      ]
     },
     "metadata": {
      "needs_background": "light"
     },
     "output_type": "display_data"
    }
   ],
   "source": [
    "df['cosine'].plot()"
   ]
  },
  {
   "cell_type": "code",
   "execution_count": 200,
   "metadata": {},
   "outputs": [],
   "source": [
    "hull = spatial.ConvexHull(df['set'].values.tolist())"
   ]
  },
  {
   "cell_type": "code",
   "execution_count": 205,
   "metadata": {},
   "outputs": [
    {
     "data": {
      "text/plain": [
       "[<matplotlib.lines.Line2D at 0x217c8f5bd68>]"
      ]
     },
     "execution_count": 205,
     "metadata": {},
     "output_type": "execute_result"
    },
    {
     "data": {
      "image/png": "[encoded data removed]",
      "text/plain": [
       "<Figure size 576x576 with 1 Axes>"
      ]
     },
     "metadata": {
      "needs_background": "light"
     },
     "output_type": "display_data"
    }
   ],
   "source": [
    "plt.plot(hull.vertices.tolist())"
   ]
  },
  {
   "cell_type": "code",
   "execution_count": 207,
   "metadata": {},
   "outputs": [
    {
     "data": {
      "text/plain": [
       "9184787.03611105"
      ]
     },
     "execution_count": 207,
     "metadata": {},
     "output_type": "execute_result"
    }
   ],
   "source": [
    "hull.volume"
   ]
  },
  {
   "cell_type": "code",
   "execution_count": 208,
   "metadata": {},
   "outputs": [
    {
     "data": {
      "text/plain": [
       "array([   1,    2,    9,   20,   21,   22,   28,   32,   34,   46,   47,\n",
       "         51,   59,   62,   65,   74,   84,   87,   96,   99,  101,  116,\n",
       "        118,  119,  120,  125,  126,  127,  130,  131,  132,  133,  140,\n",
       "        141,  143,  144,  149,  154,  157,  171,  178,  180,  181,  182,\n",
       "        183,  188,  192,  206,  207,  212,  214,  216,  220,  221,  224,\n",
       "        242,  245,  252,  258,  264,  265,  280,  283,  286,  288,  305,\n",
       "        306,  309,  315,  322,  333,  340,  343,  344,  345,  346,  350,\n",
       "        353,  371,  375,  383,  390,  392,  399,  401,  404,  405,  410,\n",
       "        415,  416,  417,  439,  441,  444,  446,  447,  454,  456,  457,\n",
       "        466,  467,  470,  480,  489,  491,  499,  504,  511,  515,  520,\n",
       "        523,  524,  531,  533,  534,  537,  540,  541,  551,  562,  576,\n",
       "        577,  581,  585,  590,  592,  595,  605,  624,  627,  632,  646,\n",
       "        649,  653,  660,  667,  668,  670,  678,  693,  702,  708,  710,\n",
       "        716,  721,  724,  736,  741,  744,  751,  756,  757,  763,  768,\n",
       "        778,  793,  800,  801,  812,  821,  831,  837,  842,  855,  873,\n",
       "        876,  880,  889,  890,  895,  896,  897,  904,  905,  906,  907,\n",
       "        909,  915,  920,  924,  926,  927,  950,  952,  985,  989,  995,\n",
       "       1006, 1011, 1012, 1014, 1019, 1022, 1025, 1036, 1047, 1053, 1071,\n",
       "       1075, 1078, 1079, 1081, 1084, 1086, 1119, 1126, 1127, 1133, 1135,\n",
       "       1136, 1140, 1179, 1191, 1196, 1198, 1199, 1205, 1216, 1220, 1225,\n",
       "       1231, 1238, 1251, 1252, 1254, 1255, 1256, 1259, 1260, 1264, 1265,\n",
       "       1266, 1273, 1279, 1280, 1284, 1303, 1305, 1315, 1319, 1326, 1329,\n",
       "       1331, 1334, 1336, 1342, 1355, 1360, 1367, 1368, 1379, 1386, 1393,\n",
       "       1401, 1402, 1412, 1420, 1421, 1425, 1427, 1432, 1435, 1438, 1441,\n",
       "       1443, 1445, 1448, 1449, 1452, 1454, 1465, 1478, 1484, 1487, 1499,\n",
       "       1500, 1515, 1518, 1525, 1529, 1530, 1532, 1537, 1538, 1539, 1543,\n",
       "       1560, 1569, 1574, 1575, 1579, 1580, 1585, 1596, 1614, 1618, 1628,\n",
       "       1635, 1637, 1639, 1647, 1653, 1661, 1668, 1682, 1686, 1688, 1690,\n",
       "       1702, 1715, 1716, 1720, 1732, 1739, 1747, 1753, 1756, 1757, 1758,\n",
       "       1764, 1765, 1766, 1775, 1776, 1779, 1802, 1806, 1817, 1830, 1831,\n",
       "       1834, 1855, 1859, 1863, 1864, 1870, 1872, 1874, 1900, 1902, 1913,\n",
       "       1917, 1918, 1919, 1928, 1930, 1934, 1937, 1941, 1943, 1950, 1961,\n",
       "       1963, 1969, 1974, 1977, 1988, 1993, 1994, 1998, 2000, 2007, 2014,\n",
       "       2015, 2020, 2023, 2030, 2031, 2034, 2037, 2038, 2041, 2042, 2054,\n",
       "       2055, 2057, 2065, 2070, 2074, 2079, 2082, 2090, 2092, 2095, 2108,\n",
       "       2109, 2112, 2117, 2121, 2129, 2130, 2146, 2150, 2152, 2156, 2164,\n",
       "       2169, 2173, 2177, 2183, 2185, 2192, 2194, 2196, 2200, 2202, 2203,\n",
       "       2206, 2215, 2220, 2229, 2230, 2235, 2237, 2263, 2269, 2277, 2280,\n",
       "       2281, 2285, 2292, 2304, 2315, 2318, 2323, 2324, 2331, 2336, 2337,\n",
       "       2338, 2339, 2341, 2347, 2348, 2349, 2350, 2355], dtype=int32)"
      ]
     },
     "execution_count": 208,
     "metadata": {},
     "output_type": "execute_result"
    }
   ],
   "source": [
    "hull.vertices"
   ]
  },
  {
   "cell_type": "code",
   "execution_count": 212,
   "metadata": {},
   "outputs": [
    {
     "data": {
      "text/html": [
       "<div>\n",
       "<style scoped>\n",
       "    .dataframe tbody tr th:only-of-type {\n",
       "        vertical-align: middle;\n",
       "    }\n",
       "\n",
       "    .dataframe tbody tr th {\n",
       "        vertical-align: top;\n",
       "    }\n",
       "\n",
       "    .dataframe thead th {\n",
       "        text-align: right;\n",
       "    }\n",
       "</style>\n",
       "<table border=\"1\" class=\"dataframe\">\n",
       "  <thead>\n",
       "    <tr style=\"text-align: right;\">\n",
       "      <th></th>\n",
       "      <th>draw</th>\n",
       "      <th>N1</th>\n",
       "      <th>N2</th>\n",
       "      <th>N3</th>\n",
       "      <th>N4</th>\n",
       "      <th>N5</th>\n",
       "      <th>N6</th>\n",
       "      <th>year</th>\n",
       "      <th>set</th>\n",
       "      <th>sum</th>\n",
       "      <th>cosine</th>\n",
       "      <th>euclidean</th>\n",
       "      <th>taxicab</th>\n",
       "    </tr>\n",
       "  </thead>\n",
       "  <tbody>\n",
       "    <tr>\n",
       "      <th>1992</th>\n",
       "      <td>190</td>\n",
       "      <td>5</td>\n",
       "      <td>9</td>\n",
       "      <td>20</td>\n",
       "      <td>25</td>\n",
       "      <td>34</td>\n",
       "      <td>40</td>\n",
       "      <td>2014</td>\n",
       "      <td>[5, 9, 20, 25, 34, 40]</td>\n",
       "      <td>133</td>\n",
       "      <td>0.000795</td>\n",
       "      <td>2.828427</td>\n",
       "      <td>-4.0</td>\n",
       "    </tr>\n",
       "  </tbody>\n",
       "</table>\n",
       "</div>"
      ],
      "text/plain": [
       "      draw  N1  N2  N3  N4  N5  N6  year                     set  sum  \\\n",
       "1992   190   5   9  20  25  34  40  2014  [5, 9, 20, 25, 34, 40]  133   \n",
       "\n",
       "        cosine  euclidean  taxicab  \n",
       "1992  0.000795   2.828427     -4.0  "
      ]
     },
     "execution_count": 212,
     "metadata": {},
     "output_type": "execute_result"
    }
   ],
   "source": [
    "df[df['euclidean']==df['euclidean'].min()]"
   ]
  },
  {
   "cell_type": "code",
   "execution_count": 213,
   "metadata": {},
   "outputs": [
    {
     "data": {
      "text/html": [
       "<div>\n",
       "<style scoped>\n",
       "    .dataframe tbody tr th:only-of-type {\n",
       "        vertical-align: middle;\n",
       "    }\n",
       "\n",
       "    .dataframe tbody tr th {\n",
       "        vertical-align: top;\n",
       "    }\n",
       "\n",
       "    .dataframe thead th {\n",
       "        text-align: right;\n",
       "    }\n",
       "</style>\n",
       "<table border=\"1\" class=\"dataframe\">\n",
       "  <thead>\n",
       "    <tr style=\"text-align: right;\">\n",
       "      <th></th>\n",
       "      <th>draw</th>\n",
       "      <th>N1</th>\n",
       "      <th>N2</th>\n",
       "      <th>N3</th>\n",
       "      <th>N4</th>\n",
       "      <th>N5</th>\n",
       "      <th>N6</th>\n",
       "      <th>year</th>\n",
       "      <th>set</th>\n",
       "      <th>sum</th>\n",
       "      <th>cosine</th>\n",
       "      <th>euclidean</th>\n",
       "      <th>taxicab</th>\n",
       "    </tr>\n",
       "  </thead>\n",
       "  <tbody>\n",
       "    <tr>\n",
       "      <th>1991</th>\n",
       "      <td>189</td>\n",
       "      <td>6</td>\n",
       "      <td>10</td>\n",
       "      <td>19</td>\n",
       "      <td>27</td>\n",
       "      <td>35</td>\n",
       "      <td>40</td>\n",
       "      <td>2014</td>\n",
       "      <td>[6, 10, 19, 27, 35, 40]</td>\n",
       "      <td>137</td>\n",
       "      <td>0.054509</td>\n",
       "      <td>42.178193</td>\n",
       "      <td>-97.0</td>\n",
       "    </tr>\n",
       "    <tr>\n",
       "      <th>1992</th>\n",
       "      <td>190</td>\n",
       "      <td>5</td>\n",
       "      <td>9</td>\n",
       "      <td>20</td>\n",
       "      <td>25</td>\n",
       "      <td>34</td>\n",
       "      <td>40</td>\n",
       "      <td>2014</td>\n",
       "      <td>[5, 9, 20, 25, 34, 40]</td>\n",
       "      <td>133</td>\n",
       "      <td>0.000795</td>\n",
       "      <td>2.828427</td>\n",
       "      <td>-4.0</td>\n",
       "    </tr>\n",
       "  </tbody>\n",
       "</table>\n",
       "</div>"
      ],
      "text/plain": [
       "      draw  N1  N2  N3  N4  N5  N6  year                      set  sum  \\\n",
       "1991   189   6  10  19  27  35  40  2014  [6, 10, 19, 27, 35, 40]  137   \n",
       "1992   190   5   9  20  25  34  40  2014   [5, 9, 20, 25, 34, 40]  133   \n",
       "\n",
       "        cosine  euclidean  taxicab  \n",
       "1991  0.054509  42.178193    -97.0  \n",
       "1992  0.000795   2.828427     -4.0  "
      ]
     },
     "execution_count": 213,
     "metadata": {},
     "output_type": "execute_result"
    }
   ],
   "source": [
    "df.loc[[1991,1992],:]"
   ]
  },
  {
   "cell_type": "code",
   "execution_count": null,
   "metadata": {},
   "outputs": [],
   "source": []
  }
 ],
 "metadata": {
  "kernelspec": {
   "display_name": "Python 3",
   "language": "python",
   "name": "python3"
  },
  "language_info": {
   "codemirror_mode": {
    "name": "ipython",
    "version": 3
   },
   "file_extension": ".py",
   "mimetype": "text/x-python",
   "name": "python",
   "nbconvert_exporter": "python",
   "pygments_lexer": "ipython3",
   "version": "3.7.1"
  }
 },
 "nbformat": 4,
 "nbformat_minor": 2
}
